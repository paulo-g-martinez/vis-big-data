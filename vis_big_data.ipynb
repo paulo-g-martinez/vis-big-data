{
  "nbformat": 4,
  "nbformat_minor": 0,
  "metadata": {
    "colab": {
      "name": "vis-big-data.ipynb",
      "provenance": [],
      "collapsed_sections": [],
      "toc_visible": true,
      "authorship_tag": "ABX9TyP5StIIiiRcMKxHoAEgZj1y",
      "include_colab_link": true
    },
    "kernelspec": {
      "name": "python3",
      "display_name": "Python 3"
    },
    "language_info": {
      "name": "python"
    }
  },
  "cells": [
    {
      "cell_type": "markdown",
      "metadata": {
        "id": "view-in-github",
        "colab_type": "text"
      },
      "source": [
        "<a href=\"https://colab.research.google.com/github/paulo-g-martinez/vis-big-data/blob/main/vis_big_data.ipynb\" target=\"_parent\"><img src=\"https://colab.research.google.com/assets/colab-badge.svg\" alt=\"Open In Colab\"/></a>"
      ]
    },
    {
      "cell_type": "markdown",
      "metadata": {
        "id": "zec6T_6E3nIR"
      },
      "source": [
        "6/19/21 Paulo G. Martinez\n",
        "\n",
        "# Objective: I want to plot and display data that is too big for memory.\n",
        "\n",
        "# Background\n",
        "- **I've tried \"stepwise\" reading subsets of the data into memory, plotting subplots, then deleting the data subset (within memory limits). But I'm still exceeding the memory.**\n",
        "  - I suspect this is because while I delete the data itself, a \"transformed version\" of the data is necessarily retained as an element of the axes or figure\n",
        "    - this is likely even \"bigger\" for null heatmaps where every column _m_ X _1_ (ex: array of booleans) probably becomes a _2m_ X _2_ array of rectangles or whatever.\n",
        "\n",
        "# Strategy:\n",
        "- Since I only want the visualization (not the data),\n",
        "\n",
        "**(First loop) plot subsets only:**\n",
        "- I'll plot each subset of the data\n",
        "- export the viz to disk as an image (jpg etc.)\n",
        "  - hoping for a visual resolution that is good enough for human eyes but less data than the full set of coordinates etc for each point in the plot\n",
        "- drop the data from memory and clear the subplot/figure\n",
        "\n",
        "**(Optional Second loop) display images only, without data:**\n",
        "- then read only the image into memory and write that to the subplot/figure\n",
        "\n"
      ]
    },
    {
      "cell_type": "markdown",
      "metadata": {
        "id": "i7R256lxQ5Gn"
      },
      "source": [
        "# Conclusion ✅ 🎉 😎 \n",
        "- I didn't have to save the images to disk after all!\n",
        "  - hacked the margins to make many plots seem like one\n",
        "\n",
        "## When applying to actual projects\n",
        "### nuance these inputs to the function\n",
        "- change the exception handling to an exception that corresponds to the memory overflow\n",
        "- add the logic to read the actual big data"
      ]
    },
    {
      "cell_type": "markdown",
      "metadata": {
        "id": "XIZYhyq09g1M"
      },
      "source": [
        "# Imports and global variables"
      ]
    },
    {
      "cell_type": "code",
      "metadata": {
        "id": "FUpsi5X89oot"
      },
      "source": [
        "# for data frames\n",
        "import pandas as pd\n",
        "import numpy as np\n",
        "# for figure and subplot management\n",
        "import matplotlib.pyplot as plt\n",
        "# for very granular aesthetic configurations\n",
        "import matplotlib as mpl\n",
        "# for easy heatmaps\n",
        "import seaborn as sns\n",
        "\n",
        "# declare local limit \n",
        "local_limit = 60 # (in practice, likely an error to handle)\n",
        "# feedback to print\n",
        "verbose = 100\n",
        "concerned_about_memory = True\n",
        "debugging = False\n",
        "# max number of recursions\n",
        "max_recursions = 4"
      ],
      "execution_count": null,
      "outputs": []
    },
    {
      "cell_type": "markdown",
      "metadata": {
        "id": "AHZUzuox922M"
      },
      "source": [
        "## get data\n",
        "Just dummy data, for now."
      ]
    },
    {
      "cell_type": "code",
      "metadata": {
        "colab": {
          "base_uri": "https://localhost:8080/",
          "height": 204
        },
        "id": "iT7R5vqw-BbM",
        "outputId": "06d3c8ad-43ac-4528-fbed-73eef44f2f5e"
      },
      "source": [
        "# get iris data set for ease\n",
        "df = sns.load_dataset('iris')\n",
        "df.head()"
      ],
      "execution_count": null,
      "outputs": [
        {
          "output_type": "execute_result",
          "data": {
            "text/html": [
              "<div>\n",
              "<style scoped>\n",
              "    .dataframe tbody tr th:only-of-type {\n",
              "        vertical-align: middle;\n",
              "    }\n",
              "\n",
              "    .dataframe tbody tr th {\n",
              "        vertical-align: top;\n",
              "    }\n",
              "\n",
              "    .dataframe thead th {\n",
              "        text-align: right;\n",
              "    }\n",
              "</style>\n",
              "<table border=\"1\" class=\"dataframe\">\n",
              "  <thead>\n",
              "    <tr style=\"text-align: right;\">\n",
              "      <th></th>\n",
              "      <th>sepal_length</th>\n",
              "      <th>sepal_width</th>\n",
              "      <th>petal_length</th>\n",
              "      <th>petal_width</th>\n",
              "      <th>species</th>\n",
              "    </tr>\n",
              "  </thead>\n",
              "  <tbody>\n",
              "    <tr>\n",
              "      <th>0</th>\n",
              "      <td>5.1</td>\n",
              "      <td>3.5</td>\n",
              "      <td>1.4</td>\n",
              "      <td>0.2</td>\n",
              "      <td>setosa</td>\n",
              "    </tr>\n",
              "    <tr>\n",
              "      <th>1</th>\n",
              "      <td>4.9</td>\n",
              "      <td>3.0</td>\n",
              "      <td>1.4</td>\n",
              "      <td>0.2</td>\n",
              "      <td>setosa</td>\n",
              "    </tr>\n",
              "    <tr>\n",
              "      <th>2</th>\n",
              "      <td>4.7</td>\n",
              "      <td>3.2</td>\n",
              "      <td>1.3</td>\n",
              "      <td>0.2</td>\n",
              "      <td>setosa</td>\n",
              "    </tr>\n",
              "    <tr>\n",
              "      <th>3</th>\n",
              "      <td>4.6</td>\n",
              "      <td>3.1</td>\n",
              "      <td>1.5</td>\n",
              "      <td>0.2</td>\n",
              "      <td>setosa</td>\n",
              "    </tr>\n",
              "    <tr>\n",
              "      <th>4</th>\n",
              "      <td>5.0</td>\n",
              "      <td>3.6</td>\n",
              "      <td>1.4</td>\n",
              "      <td>0.2</td>\n",
              "      <td>setosa</td>\n",
              "    </tr>\n",
              "  </tbody>\n",
              "</table>\n",
              "</div>"
            ],
            "text/plain": [
              "   sepal_length  sepal_width  petal_length  petal_width species\n",
              "0           5.1          3.5           1.4          0.2  setosa\n",
              "1           4.9          3.0           1.4          0.2  setosa\n",
              "2           4.7          3.2           1.3          0.2  setosa\n",
              "3           4.6          3.1           1.5          0.2  setosa\n",
              "4           5.0          3.6           1.4          0.2  setosa"
            ]
          },
          "metadata": {
            "tags": []
          },
          "execution_count": 2
        }
      ]
    },
    {
      "cell_type": "code",
      "metadata": {
        "colab": {
          "base_uri": "https://localhost:8080/",
          "height": 204
        },
        "id": "BYlHpuTD-H7I",
        "outputId": "4c1c564a-f600-4bbe-fc3a-ff13a9a49e5a"
      },
      "source": [
        "# sprinkle some nulls in there\n",
        "for col in df:\n",
        "  # only for numeric cols\n",
        "  if df[col].dtype == \"float64\":\n",
        "    # simply cast rounded even ints to null\n",
        "    df[col] = df[col].apply(lambda f: None if int(f)%2 == 0 else f)\n",
        "# spot check\n",
        "df.head()"
      ],
      "execution_count": null,
      "outputs": [
        {
          "output_type": "execute_result",
          "data": {
            "text/html": [
              "<div>\n",
              "<style scoped>\n",
              "    .dataframe tbody tr th:only-of-type {\n",
              "        vertical-align: middle;\n",
              "    }\n",
              "\n",
              "    .dataframe tbody tr th {\n",
              "        vertical-align: top;\n",
              "    }\n",
              "\n",
              "    .dataframe thead th {\n",
              "        text-align: right;\n",
              "    }\n",
              "</style>\n",
              "<table border=\"1\" class=\"dataframe\">\n",
              "  <thead>\n",
              "    <tr style=\"text-align: right;\">\n",
              "      <th></th>\n",
              "      <th>sepal_length</th>\n",
              "      <th>sepal_width</th>\n",
              "      <th>petal_length</th>\n",
              "      <th>petal_width</th>\n",
              "      <th>species</th>\n",
              "    </tr>\n",
              "  </thead>\n",
              "  <tbody>\n",
              "    <tr>\n",
              "      <th>0</th>\n",
              "      <td>5.1</td>\n",
              "      <td>3.5</td>\n",
              "      <td>1.4</td>\n",
              "      <td>NaN</td>\n",
              "      <td>setosa</td>\n",
              "    </tr>\n",
              "    <tr>\n",
              "      <th>1</th>\n",
              "      <td>NaN</td>\n",
              "      <td>3.0</td>\n",
              "      <td>1.4</td>\n",
              "      <td>NaN</td>\n",
              "      <td>setosa</td>\n",
              "    </tr>\n",
              "    <tr>\n",
              "      <th>2</th>\n",
              "      <td>NaN</td>\n",
              "      <td>3.2</td>\n",
              "      <td>1.3</td>\n",
              "      <td>NaN</td>\n",
              "      <td>setosa</td>\n",
              "    </tr>\n",
              "    <tr>\n",
              "      <th>3</th>\n",
              "      <td>NaN</td>\n",
              "      <td>3.1</td>\n",
              "      <td>1.5</td>\n",
              "      <td>NaN</td>\n",
              "      <td>setosa</td>\n",
              "    </tr>\n",
              "    <tr>\n",
              "      <th>4</th>\n",
              "      <td>5.0</td>\n",
              "      <td>3.6</td>\n",
              "      <td>1.4</td>\n",
              "      <td>NaN</td>\n",
              "      <td>setosa</td>\n",
              "    </tr>\n",
              "  </tbody>\n",
              "</table>\n",
              "</div>"
            ],
            "text/plain": [
              "   sepal_length  sepal_width  petal_length  petal_width species\n",
              "0           5.1          3.5           1.4          NaN  setosa\n",
              "1           NaN          3.0           1.4          NaN  setosa\n",
              "2           NaN          3.2           1.3          NaN  setosa\n",
              "3           NaN          3.1           1.5          NaN  setosa\n",
              "4           5.0          3.6           1.4          NaN  setosa"
            ]
          },
          "metadata": {
            "tags": []
          },
          "execution_count": 3
        }
      ]
    },
    {
      "cell_type": "code",
      "metadata": {
        "colab": {
          "base_uri": "https://localhost:8080/",
          "height": 287
        },
        "id": "eUqlodJu-TeR",
        "outputId": "02a70555-bd02-44fb-d90c-325691a04b6c"
      },
      "source": [
        "# check global heatmap\n",
        "sns.heatmap(df.isna(), cbar = False)"
      ],
      "execution_count": null,
      "outputs": [
        {
          "output_type": "execute_result",
          "data": {
            "text/plain": [
              "<matplotlib.axes._subplots.AxesSubplot at 0x7f6382c8af10>"
            ]
          },
          "metadata": {
            "tags": []
          },
          "execution_count": 4
        },
        {
          "output_type": "display_data",
          "data": {
            "image/png": "[encoded data removed]",
            "text/plain": [
              "<Figure size 432x288 with 1 Axes>"
            ]
          },
          "metadata": {
            "tags": [],
            "needs_background": "light"
          }
        }
      ]
    },
    {
      "cell_type": "markdown",
      "metadata": {
        "id": "MUOG2k7u_LKJ"
      },
      "source": [
        "# define, dev, test: logic to recursively try\n",
        "- Assume we don't know exactly what our local memory limits are and define an approach that recursively adjusts until it succeeds.\n"
      ]
    },
    {
      "cell_type": "markdown",
      "metadata": {
        "id": "A5sVs0ELEcQu"
      },
      "source": [
        "## local inputs"
      ]
    },
    {
      "cell_type": "code",
      "metadata": {
        "id": "Rp0S_WH0CFF_"
      },
      "source": [
        "# count rows in big data\n",
        "big_row_count = df.shape[0]"
      ],
      "execution_count": null,
      "outputs": []
    },
    {
      "cell_type": "markdown",
      "metadata": {
        "id": "lg_ZMwg84oCu"
      },
      "source": [
        "## Attempt to display withou having to save\n",
        "(hack the plotting margins to create the illusion of a single plots from many contiguous plots)"
      ]
    },
    {
      "cell_type": "code",
      "metadata": {
        "colab": {
          "base_uri": "https://localhost:8080/",
          "height": 927
        },
        "id": "tIS0DglN4elV",
        "outputId": "7988d834-b3ac-43d6-ecca-c74f346cd379"
      },
      "source": [
        "# recursively do stuff\n",
        "######################\n",
        "i_recursion = 0\n",
        "while i_recursion <= max_recursions:\n",
        "  # track current recursion\n",
        "  i_recursion += 1\n",
        "  if verbose:\n",
        "    feedback = f\"recursion:{i_recursion}\"\n",
        "    feedback += '\\n'+'-'*len(feedback)\n",
        "    print(feedback)\n",
        "\n",
        "  # do stuff\n",
        "  # ========\n",
        "  # will try the whole thing first\n",
        "  if i_recursion == 1:\n",
        "    subset_row_limit = big_row_count\n",
        "  # determine number of subsets\n",
        "  num_of_subsets = int(np.ceil(big_row_count/subset_row_limit))\n",
        "  if verbose:\n",
        "    feedback = f\"set num_of_subsets to: {num_of_subsets}\"\n",
        "    print(feedback)\n",
        "  \n",
        "  # try stuff\n",
        "  # ---------\n",
        "  try: \n",
        "    # iterate through subsets (don't print or you'll interrupt the ilussion of many plots being one)\n",
        "    for i in range(num_of_subsets):\n",
        "      # define subset limits\n",
        "      start, stop = i*subset_row_limit, (i+1)*subset_row_limit\n",
        "\n",
        "      # dummy limit test\n",
        "      if subset_row_limit > local_limit:\n",
        "        raise AssertionError\n",
        "\n",
        "      # read the data subset\n",
        "      # reset the index to make it a non null background column for ytick labels\n",
        "      sub_df = df.reset_index()[start:stop]\n",
        "      \n",
        "      # heatmap the data\n",
        "      fig, ax = plt.subplots(figsize = (20,int(15/num_of_subsets)))\n",
        "      sns.heatmap(sub_df.isna(),\n",
        "                  cbar = False,\n",
        "                  ax = ax)\n",
        "      \n",
        "      # fine tune aesthetic parameters to make many plots look like one\n",
        "      # - - - - - - - - - - - - - - - - - - - - - - - - - - - - - - - -\n",
        "      # remove the default 0.1 padding around the figure itself\n",
        "      mpl.rcParams['savefig.pad_inches'] = 0\n",
        "      # new lines act as hardcoded margins\n",
        "      #ax.set_ylabel(f'\\nrows:{start}-{stop}', ha = 'right')\n",
        "      \n",
        "      # if first subset\n",
        "      if i == 0:\n",
        "        # add a title (prefix new line creates a top margin)\n",
        "        ax.set_title('\\nTitle for all plots')\n",
        "        # set x labels (col names) to top\n",
        "        plt.tick_params(axis = 'x', labeltop = True)\n",
        "      \n",
        "      # for all subsets\n",
        "      ax.tick_params( \n",
        "        axis = 'x', \n",
        "        # turn off major and minor bottom ticks and lables\n",
        "        which = 'both',\n",
        "        bottom = False,\n",
        "        top = False, \n",
        "        labelbottom = False,\n",
        "      )\n",
        "      # aggressive inner padding to prevent unwanted horizontal margins\n",
        "      # (if lenght of the ytick labels is of uneven length between plots\n",
        "      # then the axis will be \"squeezed\" to accomodate them this will visually\n",
        "      # misalign the the appearence of \"columns\" between plots)\n",
        "      ax.tick_params(axis = 'y', direction = 'in', pad = -70, color = 'white',\n",
        "                     labelcolor = 'white', labelrotation = 0)\n",
        "      # align the yticks to their top to prevent unwanted margin space above img\n",
        "      plt.yticks(va = 'top', color = 'white')\n",
        "      \n",
        "      if debugging:\n",
        "        # alternating background color helps in margin tuning\n",
        "        fig.set_facecolor(['red', 'blue'][i%2])\n",
        "\n",
        "      plt.show()\n",
        "      # drop unwanted objects from memory\n",
        "      if concerned_about_memory: \n",
        "        plt.close(fig)\n",
        "        del fig, ax, sub_df\n",
        "      # restore the default plotting margin\n",
        "      mpl.rcParams['savefig.pad_inches'] = 0.1\n",
        "    \n",
        "    print('>> Success! breaking recursion...<<')\n",
        "    break\n",
        "  \n",
        "  # handle error from trying (exceeding local limit)\n",
        "  # ------------------------------------------------\n",
        "  except AssertionError:\n",
        "    feedback = f'! subset_row_limit: {subset_row_limit} exceeded local limit.'\n",
        "    subset_row_limit = int(subset_row_limit/2) + 1\n",
        "    feedback += f'\\n  decreased to: {subset_row_limit} for next recursion.'\n",
        "    print(feedback)\n",
        "  \n",
        "  # end of while loop iteration\n",
        "  # ===========================\n",
        "  print()"
      ],
      "execution_count": null,
      "outputs": [
        {
          "output_type": "stream",
          "text": [
            "recursion:1\n",
            "-----------\n",
            "set num_of_subsets to: 1\n",
            "! subset_row_limit: 150 exceeded local limit.\n",
            "  decreased to: 76 for next recursion.\n",
            "\n",
            "recursion:2\n",
            "-----------\n",
            "set num_of_subsets to: 2\n",
            "! subset_row_limit: 76 exceeded local limit.\n",
            "  decreased to: 39 for next recursion.\n",
            "\n",
            "recursion:3\n",
            "-----------\n",
            "set num_of_subsets to: 4\n"
          ],
          "name": "stdout"
        },
        {
          "output_type": "display_data",
          "data": {
            "image/png": "[encoded data removed]",
            "text/plain": [
              "<Figure size 1440x216 with 1 Axes>"
            ]
          },
          "metadata": {
            "tags": []
          }
        },
        {
          "output_type": "display_data",
          "data": {
            "image/png": "[encoded data removed]",
            "text/plain": [
              "<Figure size 1440x216 with 1 Axes>"
            ]
          },
          "metadata": {
            "tags": [],
            "needs_background": "dark"
          }
        },
        {
          "output_type": "display_data",
          "data": {
            "image/png": "[encoded data removed]",
            "text/plain": [
              "<Figure size 1440x216 with 1 Axes>"
            ]
          },
          "metadata": {
            "tags": [],
            "needs_background": "dark"
          }
        },
        {
          "output_type": "display_data",
          "data": {
            "image/png": "[encoded data removed]",
            "text/plain": [
              "<Figure size 1440x216 with 1 Axes>"
            ]
          },
          "metadata": {
            "tags": [],
            "needs_background": "dark"
          }
        },
        {
          "output_type": "stream",
          "text": [
            ">> Success! breaking recursion...<<\n"
          ],
          "name": "stdout"
        }
      ]
    },
    {
      "cell_type": "markdown",
      "metadata": {
        "id": "KqdwKZD2LD8T"
      },
      "source": [
        "# Success!"
      ]
    },
    {
      "cell_type": "markdown",
      "metadata": {
        "id": "thHekM5JTFui"
      },
      "source": [
        "# Refactor into a function for easier use"
      ]
    },
    {
      "cell_type": "code",
      "metadata": {
        "colab": {
          "base_uri": "https://localhost:8080/",
          "height": 32
        },
        "id": "L6O5rJiWhnVC",
        "outputId": "3199ed2f-c7cb-43c3-90f6-04d8b9cb1f20"
      },
      "source": [
        "pd.DataFrame()"
      ],
      "execution_count": null,
      "outputs": [
        {
          "output_type": "execute_result",
          "data": {
            "text/html": [
              "<div>\n",
              "<style scoped>\n",
              "    .dataframe tbody tr th:only-of-type {\n",
              "        vertical-align: middle;\n",
              "    }\n",
              "\n",
              "    .dataframe tbody tr th {\n",
              "        vertical-align: top;\n",
              "    }\n",
              "\n",
              "    .dataframe thead th {\n",
              "        text-align: right;\n",
              "    }\n",
              "</style>\n",
              "<table border=\"1\" class=\"dataframe\">\n",
              "  <thead>\n",
              "    <tr style=\"text-align: right;\">\n",
              "      <th></th>\n",
              "    </tr>\n",
              "  </thead>\n",
              "  <tbody>\n",
              "  </tbody>\n",
              "</table>\n",
              "</div>"
            ],
            "text/plain": [
              "Empty DataFrame\n",
              "Columns: []\n",
              "Index: []"
            ]
          },
          "metadata": {
            "tags": []
          },
          "execution_count": 7
        }
      ]
    },
    {
      "cell_type": "code",
      "metadata": {
        "id": "egSZbWJHTJrK"
      },
      "source": [
        "def incrementally_heatmap_big_data(sliceable_big_df,\n",
        "                                   big_row_count,\n",
        "                                   max_recursions = 4,\n",
        "                                   exceed_memory_err_type = AssertionError,\n",
        "                                   title = 'Heatmap of big data',\n",
        "                                   figsize = (20, 15),\n",
        "                                   verbose = True, \n",
        "                                   concerned_about_memory = True, \n",
        "                                   debugging = False,\n",
        "                                   ret_obj = True):\n",
        "  \"\"\"Heatmaps a big data frame recursively subsampling as required by memory.\n",
        "\n",
        "  Some assembly required.\n",
        "  Takes a reference to a data set that is too big to plot as one object.\n",
        "  Attempts to plot the whole object. When that raises the exception specified as\n",
        "  `exceed_memory_err_type` it will define two slicing indices that define two \n",
        "  subsets of the original data. It then tries to plot each subset as its own\n",
        "  `fig, ax` objects. But it configures the plotting margins and inline display\n",
        "  to produce an image which appears to be a single `fig` object. This process\n",
        "  repeats recursively until it either succeeds at plotting the data or it\n",
        "  reaches the maximum number of recursions specified.\n",
        "\n",
        "  Parameters\n",
        "  ----------\n",
        "\n",
        "  # sliceable_big_df : You'll have to nuance this!\n",
        "    but it should reference a big \n",
        "    data set that can be somehow sliced or subseted without calling the entire \n",
        "    data into memory\n",
        "\n",
        "  big_row_count : an integer expressing the number of rows/records in the big\n",
        "    data set.\n",
        "\n",
        "  max_recursions : The number of times you want to try to subset and plot the\n",
        "    big data. The first attempt uses a single subset equivalent to the whole\n",
        "    data. The second attempt uses two subsets. The third attempt uses 4 subsets.\n",
        "    Each attempt doubles the number us subsets attempted. Defaults to 4, which \n",
        "    would max out at 16 subsets of the data.\n",
        "    \n",
        "  # exceed_memory_err_typ : You'll have to nuance this!\n",
        "    the error type your local environment raises when you exceed your local \n",
        "    memory limit. Defaults to AssertionError.\n",
        "\n",
        "  title : String title of the heatmap.\n",
        "\n",
        "  figsize : tuple of width and height passed to plt.subplots\n",
        "\n",
        "  verbose : boolean or number expressing whether or not you want the function to\n",
        "    print some feedback.\n",
        "\n",
        "  concerned_about_memory : Boolean flag telling the function to drop data from \n",
        "    local memory as soon as it can.\n",
        "   \n",
        "  debugging : Boolean flag, if true will alternate the backgrounds of the plots \n",
        "    between red and blue as a visual aid to fine tune the \"margin hacking.\"\n",
        "\n",
        "  ret_obj : Boolean flag. Not really used, function will return this right back\n",
        "    to you.\n",
        "  \"\"\"\n",
        "  # validate inputs\n",
        "  assert int(big_row_count) > 0\n",
        "  assert type(int(max_recursions)) == int\n",
        "  assert type(verbose) in {int, bool}\n",
        "  assert type(concerned_about_memory) in {int, bool}\n",
        "  assert type(debugging) in {int, bool}\n",
        "  assert type(ret_obj) in {bool}\n",
        "  # we won't validate the type of sliceable_big_df cause I just want it to be \n",
        "  # some object that when called returns a sliceable dataframe\n",
        "  # I don't want to call the dataframe that, by stipulation, is expected to be \n",
        "  # so big it would exceed our local memory\n",
        "\n",
        "  # recursively do stuff\n",
        "  ######################\n",
        "  i_recursion = 0\n",
        "  while i_recursion <= max_recursions:\n",
        "    # track current recursion\n",
        "    i_recursion += 1\n",
        "    if verbose:\n",
        "      feedback = f\"recursion:{i_recursion}\"\n",
        "      feedback += '\\n'+'-'*len(feedback)\n",
        "      print(feedback)\n",
        "\n",
        "    # do stuff\n",
        "    # ========\n",
        "    # will try the whole thing first\n",
        "    if i_recursion == 1:\n",
        "      subset_row_limit = big_row_count\n",
        "    # determine number of subsets\n",
        "    num_of_subsets = int(np.ceil(big_row_count/subset_row_limit))\n",
        "    if verbose:\n",
        "      feedback = f\"set num_of_subsets to: {num_of_subsets}\"\n",
        "      print(feedback)\n",
        "    \n",
        "    # try stuff\n",
        "    # ---------\n",
        "    try: \n",
        "      # iterate through subsets (don't print or you'll interrupt the ilussion of many plots being one)\n",
        "      for i in range(num_of_subsets):\n",
        "        # define subset limits\n",
        "        start, stop = i*subset_row_limit, (i+1)*subset_row_limit\n",
        "\n",
        "        # read the data subset\n",
        "        ####################################################################\n",
        "        # You'll have to nuance this for however you access your big data) #\n",
        "        ####################################################################\n",
        "        # reset the index to make it a non null background column for ytick labels\n",
        "        sub_df = sliceable_big_df.reset_index()[start:stop] \n",
        "        # we expect this call to fail on the first pass\n",
        "        \n",
        "        # init plotting objects\n",
        "        fig, ax = plt.subplots(\n",
        "            figsize = (\n",
        "                figsize[0],\n",
        "                int(np.ceil(figsize[1]/num_of_subsets))\n",
        "            )\n",
        "        )\n",
        "        # heatmap the data\n",
        "        sns.heatmap(sub_df.isna(),\n",
        "                    cbar = False,\n",
        "                    ax = ax)\n",
        "        if concerned_about_memory:\n",
        "          del sub_df\n",
        "        # fine tune aesthetic parameters to make many plots look like one\n",
        "        # - - - - - - - - - - - - - - - - - - - - - - - - - - - - - - - -\n",
        "        # remove the default 0.1 padding around the figure itself\n",
        "        mpl.rcParams['savefig.pad_inches'] = 0\n",
        "        # new lines act as hardcoded margins\n",
        "        #ax.set_ylabel(f'\\nrows:{start}-{stop}', ha = 'right')\n",
        "        \n",
        "        # if first subset\n",
        "        if i == 0:\n",
        "          # add a title (prefix new line creates a top margin)\n",
        "          ax.set_title('\\n'+title)\n",
        "          # set x labels (col names) to top\n",
        "          plt.tick_params(axis = 'x', labeltop = True)\n",
        "        \n",
        "        # for all subsets\n",
        "        ax.tick_params( \n",
        "          axis = 'x', \n",
        "          # turn off major and minor bottom ticks and lables\n",
        "          which = 'both',\n",
        "          bottom = False,\n",
        "          top = False, \n",
        "          labelbottom = False,\n",
        "        )\n",
        "        # aggressive inner padding to prevent unwanted horizontal margins\n",
        "        # (if lenght of the ytick labels is of uneven length between plots\n",
        "        # then the axis will be \"squeezed\" to accomodate them this will visually\n",
        "        # misalign the the appearence of \"columns\" between plots)\n",
        "        ax.tick_params(axis = 'y', direction = 'in', pad = -70, color = 'white',\n",
        "                      labelcolor = 'white', labelrotation = 0)\n",
        "        # align the yticks to their top to prevent unwanted margin space above img\n",
        "        plt.yticks(va = 'top', color = 'white')\n",
        "        \n",
        "        if debugging:\n",
        "          # alternating background color helps in margin tuning\n",
        "          fig.set_facecolor(['red', 'blue'][i%2])\n",
        "\n",
        "        plt.show()\n",
        "        # drop unwanted objects from memory\n",
        "        if concerned_about_memory: \n",
        "          plt.close(fig)\n",
        "          del fig, ax\n",
        "        # restore the default plotting margin\n",
        "        mpl.rcParams['savefig.pad_inches'] = 0.1\n",
        "      \n",
        "      if verbose:\n",
        "        print('>> Success! breaking recursion...<<')\n",
        "      break\n",
        "    \n",
        "    # handle error from trying (exceeding local limit)\n",
        "    # ------------------------------------------------\n",
        "    except exceed_memory_err_type:\n",
        "      feedback = f'! subset_row_limit: {subset_row_limit} exceeded local limit.'\n",
        "      subset_row_limit = int(subset_row_limit/2) + 1\n",
        "      feedback += f'\\n  decreased to: {subset_row_limit} for next recursion.'\n",
        "      print(feedback)\n",
        "    \n",
        "    # end of while loop iteration\n",
        "    # ===========================\n",
        "    print()\n",
        "  \n",
        "  return ret_obj"
      ],
      "execution_count": null,
      "outputs": []
    },
    {
      "cell_type": "markdown",
      "metadata": {
        "id": "oVMGRiDgasZQ"
      },
      "source": [
        "## test"
      ]
    },
    {
      "cell_type": "code",
      "metadata": {
        "id": "EJwB35_CeAOC"
      },
      "source": [
        "# for data frames\n",
        "import pandas as pd\n",
        "import numpy as np\n",
        "# for figure and subplot management\n",
        "import matplotlib.pyplot as plt\n",
        "# for very granular aesthetic configurations\n",
        "import matplotlib as mpl\n",
        "# for easy heatmaps\n",
        "import seaborn as sns"
      ],
      "execution_count": null,
      "outputs": []
    },
    {
      "cell_type": "code",
      "metadata": {
        "colab": {
          "base_uri": "https://localhost:8080/",
          "height": 419
        },
        "id": "YjOV0M_-eykV",
        "outputId": "c11f18b1-1975-4e43-9233-45ba002a62f3"
      },
      "source": [
        "# get iris data set for ease\n",
        "big_df = sns.load_dataset('iris').drop(columns = 'species').applymap(lambda f: None if int(f)%2 == 0 else f)\n",
        "big_df"
      ],
      "execution_count": null,
      "outputs": [
        {
          "output_type": "execute_result",
          "data": {
            "text/html": [
              "<div>\n",
              "<style scoped>\n",
              "    .dataframe tbody tr th:only-of-type {\n",
              "        vertical-align: middle;\n",
              "    }\n",
              "\n",
              "    .dataframe tbody tr th {\n",
              "        vertical-align: top;\n",
              "    }\n",
              "\n",
              "    .dataframe thead th {\n",
              "        text-align: right;\n",
              "    }\n",
              "</style>\n",
              "<table border=\"1\" class=\"dataframe\">\n",
              "  <thead>\n",
              "    <tr style=\"text-align: right;\">\n",
              "      <th></th>\n",
              "      <th>sepal_length</th>\n",
              "      <th>sepal_width</th>\n",
              "      <th>petal_length</th>\n",
              "      <th>petal_width</th>\n",
              "    </tr>\n",
              "  </thead>\n",
              "  <tbody>\n",
              "    <tr>\n",
              "      <th>0</th>\n",
              "      <td>5.1</td>\n",
              "      <td>3.5</td>\n",
              "      <td>1.4</td>\n",
              "      <td>NaN</td>\n",
              "    </tr>\n",
              "    <tr>\n",
              "      <th>1</th>\n",
              "      <td>NaN</td>\n",
              "      <td>3.0</td>\n",
              "      <td>1.4</td>\n",
              "      <td>NaN</td>\n",
              "    </tr>\n",
              "    <tr>\n",
              "      <th>2</th>\n",
              "      <td>NaN</td>\n",
              "      <td>3.2</td>\n",
              "      <td>1.3</td>\n",
              "      <td>NaN</td>\n",
              "    </tr>\n",
              "    <tr>\n",
              "      <th>3</th>\n",
              "      <td>NaN</td>\n",
              "      <td>3.1</td>\n",
              "      <td>1.5</td>\n",
              "      <td>NaN</td>\n",
              "    </tr>\n",
              "    <tr>\n",
              "      <th>4</th>\n",
              "      <td>5.0</td>\n",
              "      <td>3.6</td>\n",
              "      <td>1.4</td>\n",
              "      <td>NaN</td>\n",
              "    </tr>\n",
              "    <tr>\n",
              "      <th>...</th>\n",
              "      <td>...</td>\n",
              "      <td>...</td>\n",
              "      <td>...</td>\n",
              "      <td>...</td>\n",
              "    </tr>\n",
              "    <tr>\n",
              "      <th>145</th>\n",
              "      <td>NaN</td>\n",
              "      <td>3.0</td>\n",
              "      <td>5.2</td>\n",
              "      <td>NaN</td>\n",
              "    </tr>\n",
              "    <tr>\n",
              "      <th>146</th>\n",
              "      <td>NaN</td>\n",
              "      <td>NaN</td>\n",
              "      <td>5.0</td>\n",
              "      <td>1.9</td>\n",
              "    </tr>\n",
              "    <tr>\n",
              "      <th>147</th>\n",
              "      <td>NaN</td>\n",
              "      <td>3.0</td>\n",
              "      <td>5.2</td>\n",
              "      <td>NaN</td>\n",
              "    </tr>\n",
              "    <tr>\n",
              "      <th>148</th>\n",
              "      <td>NaN</td>\n",
              "      <td>3.4</td>\n",
              "      <td>5.4</td>\n",
              "      <td>NaN</td>\n",
              "    </tr>\n",
              "    <tr>\n",
              "      <th>149</th>\n",
              "      <td>5.9</td>\n",
              "      <td>3.0</td>\n",
              "      <td>5.1</td>\n",
              "      <td>1.8</td>\n",
              "    </tr>\n",
              "  </tbody>\n",
              "</table>\n",
              "<p>150 rows × 4 columns</p>\n",
              "</div>"
            ],
            "text/plain": [
              "     sepal_length  sepal_width  petal_length  petal_width\n",
              "0             5.1          3.5           1.4          NaN\n",
              "1             NaN          3.0           1.4          NaN\n",
              "2             NaN          3.2           1.3          NaN\n",
              "3             NaN          3.1           1.5          NaN\n",
              "4             5.0          3.6           1.4          NaN\n",
              "..            ...          ...           ...          ...\n",
              "145           NaN          3.0           5.2          NaN\n",
              "146           NaN          NaN           5.0          1.9\n",
              "147           NaN          3.0           5.2          NaN\n",
              "148           NaN          3.4           5.4          NaN\n",
              "149           5.9          3.0           5.1          1.8\n",
              "\n",
              "[150 rows x 4 columns]"
            ]
          },
          "metadata": {
            "tags": []
          },
          "execution_count": 10
        }
      ]
    },
    {
      "cell_type": "code",
      "metadata": {
        "colab": {
          "base_uri": "https://localhost:8080/",
          "height": 891
        },
        "id": "Gqh2jMbKfFiV",
        "outputId": "4479a99c-c40d-4412-90d6-08d9c0521048"
      },
      "source": [
        "incrementally_heatmap_big_data(sliceable_big_df=sns.load_dataset('iris').drop(columns = 'species').applymap(lambda f: None if int(f)%2 == 0 else f), \n",
        "                               big_row_count=sns.load_dataset('iris').shape[0])"
      ],
      "execution_count": null,
      "outputs": [
        {
          "output_type": "stream",
          "text": [
            "recursion:1\n",
            "-----------\n",
            "set num_of_subsets to: 1\n"
          ],
          "name": "stdout"
        },
        {
          "output_type": "display_data",
          "data": {
            "image/png": "[encoded data removed]",
            "text/plain": [
              "<Figure size 1440x1080 with 1 Axes>"
            ]
          },
          "metadata": {
            "tags": []
          }
        },
        {
          "output_type": "stream",
          "text": [
            ">> Success! breaking recursion...<<\n"
          ],
          "name": "stdout"
        },
        {
          "output_type": "execute_result",
          "data": {
            "text/plain": [
              "True"
            ]
          },
          "metadata": {
            "tags": []
          },
          "execution_count": 11
        }
      ]
    },
    {
      "cell_type": "code",
      "metadata": {
        "id": "KgKBv9zOfVOJ"
      },
      "source": [
        ""
      ],
      "execution_count": null,
      "outputs": []
    }
  ]
}